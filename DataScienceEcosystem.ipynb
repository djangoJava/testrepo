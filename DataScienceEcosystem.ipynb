{
 "cells": [
  {
   "cell_type": "markdown",
   "id": "d5fb5ca2-774d-4951-ad6e-65c55b20a569",
   "metadata": {},
   "source": [
    "# Data Science Tools and Ecosystem"
   ]
  },
  {
   "cell_type": "markdown",
   "id": "72f6c191-6b18-4b38-802a-dcb2d5c14e59",
   "metadata": {},
   "source": [
    "In this notebook, Data Science Tools and Ecosystem are summarize."
   ]
  },
  {
   "cell_type": "markdown",
   "id": "4af7ef68-b4b7-458e-a12d-ae4c0765b557",
   "metadata": {},
   "source": [
    "**Objectives:**\n",
    "* List popular languages for Data Science\n",
    "* List commonly used libraries used by Data Scientists\n",
    "* Data Science Tools\n",
    "* Example of arithmetic operations"
   ]
  },
  {
   "cell_type": "markdown",
   "id": "a779545b-df64-482b-8e70-e21b0c607150",
   "metadata": {},
   "source": [
    "Some of the popular languages that Data Scientists use are:\n",
    "1. Python\n",
    "2. R\n",
    "3. Scala\n",
    "4. Java"
   ]
  },
  {
   "cell_type": "markdown",
   "id": "67bec58c-0904-46a0-9ced-3c04d1208a8e",
   "metadata": {},
   "source": [
    "Some of the commonly used libraries used by Data Scientists include:\n",
    "1. ggplot\n",
    "2. numpy\n",
    "3. pandas"
   ]
  },
  {
   "cell_type": "markdown",
   "id": "0848cc85-de90-4ebc-9edc-30d9e41423ca",
   "metadata": {},
   "source": []
  },
  {
   "cell_type": "markdown",
   "id": "9598bb29-32f3-4fc8-a7ac-0baec89af80d",
   "metadata": {},
   "source": [
    "| Data Science Tools | \n",
    "----------------------\n",
    "| Jupyternotebook |\n",
    "| JupyterLab |\n",
    "| Spyder |\n"
   ]
  },
  {
   "cell_type": "markdown",
   "id": "432eef7c-5a39-4841-9d54-3e03eac8c072",
   "metadata": {},
   "source": [
    "### Below are a few examples of evaluating arithmetic expressions in Python"
   ]
  },
  {
   "cell_type": "code",
   "execution_count": 3,
   "id": "d5ea7594-3d03-4095-b814-7c5a46423e27",
   "metadata": {},
   "outputs": [
    {
     "data": {
      "text/plain": [
       "17"
      ]
     },
     "execution_count": 3,
     "metadata": {},
     "output_type": "execute_result"
    }
   ],
   "source": [
    "# This is a simple artithmetic expression to multiply then add integers\n",
    "(3*4)+5"
   ]
  },
  {
   "cell_type": "code",
   "execution_count": 8,
   "id": "0e5f643c-1042-4273-b4c6-f4f65baad530",
   "metadata": {},
   "outputs": [
    {
     "data": {
      "text/plain": [
       "3.3333333333333335"
      ]
     },
     "execution_count": 8,
     "metadata": {},
     "output_type": "execute_result"
    }
   ],
   "source": [
    "# This will convert 200 minutes into hours by diving by 60\n",
    "200 / 60"
   ]
  },
  {
   "cell_type": "code",
   "execution_count": 9,
   "id": "0038ebb1-ed31-494f-9e0f-3bcabe3fcdbb",
   "metadata": {},
   "outputs": [
    {
     "data": {
      "text/plain": [
       "3"
      ]
     },
     "execution_count": 9,
     "metadata": {},
     "output_type": "execute_result"
    }
   ],
   "source": [
    "# or\n",
    "200 // 60"
   ]
  },
  {
   "cell_type": "markdown",
   "id": "c7fad221-42e8-4fdf-aae6-af10af67a3d7",
   "metadata": {},
   "source": [
    "## Autor:\n",
    "Django"
   ]
  },
  {
   "cell_type": "code",
   "execution_count": null,
   "id": "c801715b-45c5-4618-bb40-04d387732739",
   "metadata": {},
   "outputs": [],
   "source": []
  }
 ],
 "metadata": {
  "kernelspec": {
   "display_name": "Python 3 (ipykernel)",
   "language": "python",
   "name": "python3"
  },
  "language_info": {
   "codemirror_mode": {
    "name": "ipython",
    "version": 3
   },
   "file_extension": ".py",
   "mimetype": "text/x-python",
   "name": "python",
   "nbconvert_exporter": "python",
   "pygments_lexer": "ipython3",
   "version": "3.11.7"
  }
 },
 "nbformat": 4,
 "nbformat_minor": 5
}
